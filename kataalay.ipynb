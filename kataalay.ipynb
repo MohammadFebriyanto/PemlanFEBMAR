{
 "cells": [
  {
   "cell_type": "code",
   "execution_count": 1,
   "metadata": {},
   "outputs": [],
   "source": [
    "def alay1(kata):\n",
    "    if 'a' in kata:\n",
    "        kata = kata.replace('a', '4')\n",
    "    if 'i' in kata:\n",
    "        kata = kata.replace('i', '1')\n",
    "    if 'e' in kata:\n",
    "        kata = kata.replace('e', '3')\n",
    "    if 'g' in kata:\n",
    "        kata = kata.replace('g', '9')\n",
    "    return kata\n",
    "def alay2(kata):\n",
    "    return kata[::-1]"
   ]
  },
  {
   "cell_type": "code",
   "execution_count": null,
   "metadata": {},
   "outputs": [],
   "source": [
    "kata = input('Masukan kata :')\n",
    "print (alay1(kata))\n",
    "print (alay2(kata))\n",
    "print (alay2(alay1(kata)))"
   ]
  },
  {
   "cell_type": "code",
   "execution_count": null,
   "metadata": {},
   "outputs": [],
   "source": []
  }
 ],
 "metadata": {
  "kernelspec": {
   "display_name": "Python 3",
   "language": "python",
   "name": "python3"
  },
  "language_info": {
   "codemirror_mode": {
    "name": "ipython",
    "version": 3
   },
   "file_extension": ".py",
   "mimetype": "text/x-python",
   "name": "python",
   "nbconvert_exporter": "python",
   "pygments_lexer": "ipython3",
   "version": "3.7.3"
  }
 },
 "nbformat": 4,
 "nbformat_minor": 4
}
