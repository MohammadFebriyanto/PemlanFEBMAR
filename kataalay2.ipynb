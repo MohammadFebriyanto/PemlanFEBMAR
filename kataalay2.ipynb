{
 "cells": [
  {
   "cell_type": "code",
   "execution_count": 5,
   "metadata": {},
   "outputs": [],
   "source": [
    "def alay(kata):\n",
    "    if 'a' in kata:\n",
    "        kata=kata.replace('a','4')\n",
    "    if 'i' in kata:\n",
    "        kata=kata.replace('i','1')\n",
    "    if 'o' in kata:\n",
    "        kata=kata.replace('o','0')\n",
    "    if 'e' in kata:\n",
    "        kata=kata.replace('e','3')\n",
    "    return kata"
   ]
  },
  {
   "cell_type": "code",
   "execution_count": 6,
   "metadata": {},
   "outputs": [
    {
     "name": "stdin",
     "output_type": "stream",
     "text": [
      "Masukan kata :  kasur rusak\n"
     ]
    },
    {
     "name": "stdout",
     "output_type": "stream",
     "text": [
      "k4sur rus4k\n"
     ]
    }
   ],
   "source": [
    "inp = input(\"Masukan kata : \")\n",
    "\n",
    "if len(inp)>0: #inp.isalpha()\n",
    "    if not('ng') in inp:\n",
    "        kata_alay=inp[::-1]\n",
    "        print(alay(kata_alay))\n",
    "    else:\n",
    "        kata_alay=inp[::-1]\n",
    "        if ('gn') in kata_alay:\n",
    "            kata_alay=kata_alay.replace('gn', 'ng')\n",
    "        print(alay(kata_alay))"
   ]
  },
  {
   "cell_type": "code",
   "execution_count": 25,
   "metadata": {},
   "outputs": [
    {
     "name": "stdin",
     "output_type": "stream",
     "text": [
      "kalimat :  aku febriyanto\n"
     ]
    },
    {
     "name": "stdout",
     "output_type": "stream",
     "text": [
      "aku febriyanto\n"
     ]
    }
   ],
   "source": [
    "kalimat = input('kalimat : ')\n",
    "print(kalimat)"
   ]
  },
  {
   "cell_type": "code",
   "execution_count": null,
   "metadata": {},
   "outputs": [],
   "source": []
  }
 ],
 "metadata": {
  "kernelspec": {
   "display_name": "Python 3",
   "language": "python",
   "name": "python3"
  },
  "language_info": {
   "codemirror_mode": {
    "name": "ipython",
    "version": 3
   },
   "file_extension": ".py",
   "mimetype": "text/x-python",
   "name": "python",
   "nbconvert_exporter": "python",
   "pygments_lexer": "ipython3",
   "version": "3.7.3"
  }
 },
 "nbformat": 4,
 "nbformat_minor": 4
}
